{
 "cells": [
  {
   "cell_type": "code",
   "execution_count": 1,
   "metadata": {},
   "outputs": [],
   "source": [
    "import numpy as np\n",
    "from numpy import exp, log\n",
    "import matplotlib.pyplot as plt"
   ]
  },
  {
   "attachments": {},
   "cell_type": "markdown",
   "metadata": {},
   "source": [
    "Model constants"
   ]
  },
  {
   "cell_type": "code",
   "execution_count": 2,
   "metadata": {},
   "outputs": [],
   "source": [
    "\n",
    "d = [239, 4.1] # time constants for temperature model\n",
    "tt = np.linspace(0,100,100) # time series\n",
    "T = np.zeros(tt.shape) # temperature time series\n",
    "T[0] = 20 # initial temperature value\n",
    "ECS = 2.86 # K\n",
    "TCR = 1.53 # K\n",
    "D = log(2)/log(1.01)\n",
    "F2x = 3.71 # W/m^2\n",
    "epsilon = np.ones((13,1)) # forcing-specific efficacies\n",
    "epsilon[9]=3 # black carbon on snow efficacy\n",
    "F = np.zeros((len(tt),13)) # effective radiative forcing series\n"
   ]
  },
  {
   "attachments": {},
   "cell_type": "markdown",
   "metadata": {},
   "source": [
    "find $q_1$ and $q_2$ assuming $F_{2x}$ constant"
   ]
  },
  {
   "cell_type": "code",
   "execution_count": 3,
   "metadata": {},
   "outputs": [],
   "source": [
    "a11 = F2x\n",
    "a12 = F2x\n",
    "a21 = F2x*(1-d[0]/D*(1-exp(-D/d[0])))\n",
    "a22 = 1-d[1]/D*(1-exp(D/d[1]))\n",
    "A = np.matrix([[a11,a12],[a21,a22]])\n",
    "b = np.array([ECS,TCR])\n",
    "q = np.linalg.solve(A,b)"
   ]
  },
  {
   "attachments": {},
   "cell_type": "markdown",
   "metadata": {},
   "source": [
    "time loop"
   ]
  },
  {
   "cell_type": "code",
   "execution_count": 4,
   "metadata": {},
   "outputs": [],
   "source": [
    "\n",
    "for n, t in enumerate(tt):\n",
    "    if n==0:\n",
    "        # ignore the first iteration (no data is available at t=-1)\n",
    "        continue\n",
    "    # evaluate the temperature at time t=n\n",
    "    T_0 = T[n-1]\n",
    "    T_1 = 0\n",
    "    for i in range(0,2):\n",
    "        T_1 = T_1 + T_0*exp(1/d[i])\n",
    "        for j in range(0,13):\n",
    "            T_1 = T_1 + q[i]*epsilon[j]*F[i,j]*(1-exp(1/d[i]))\n",
    "    T[n]=T_1\n"
   ]
  },
  {
   "cell_type": "code",
   "execution_count": 5,
   "metadata": {},
   "outputs": [
    {
     "data": {
      "image/png": "[encoded data removed]",
      "text/plain": [
       "<Figure size 640x480 with 1 Axes>"
      ]
     },
     "metadata": {},
     "output_type": "display_data"
    }
   ],
   "source": [
    "\n",
    "plt.plot(tt,T)\n",
    "plt.xlabel('time [years]')\n",
    "plt.ylabel('temperature [K]')\n",
    "plt.grid()\n",
    "plt.show()"
   ]
  }
 ],
 "metadata": {
  "kernelspec": {
   "display_name": "Python 3",
   "language": "python",
   "name": "python3"
  },
  "language_info": {
   "codemirror_mode": {
    "name": "ipython",
    "version": 3
   },
   "file_extension": ".py",
   "mimetype": "text/x-python",
   "name": "python",
   "nbconvert_exporter": "python",
   "pygments_lexer": "ipython3",
   "version": "3.10.10"
  },
  "orig_nbformat": 4,
  "vscode": {
   "interpreter": {
    "hash": "85aece5883f23cf93a903b25fd3f6a5833dab6da9d10cf403dbbc785be5e4181"
   }
  }
 },
 "nbformat": 4,
 "nbformat_minor": 2
}
